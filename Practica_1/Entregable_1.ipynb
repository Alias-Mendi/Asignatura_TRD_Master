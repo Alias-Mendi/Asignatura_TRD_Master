{
 "cells": [
  {
   "cell_type": "markdown",
   "id": "dcbfa81c",
   "metadata": {},
   "source": [
    "## Web scraping exercise\n",
    "\n",
    "Define a generic function `SOS_help` which retrieves help results from Stack Overflow Stunning results. <br>\n",
    "\n",
    "The following command works just fine:"
   ]
  },
  {
   "cell_type": "code",
   "id": "a2298aae",
   "metadata": {
    "ExecuteTime": {
     "end_time": "2024-12-02T12:15:01.853130Z",
     "start_time": "2024-12-02T12:15:01.847130Z"
    }
   },
   "source": [
    "import numpy as np\n",
    "import pandas as pd\n",
    "import requests\n",
    "import traceback\n",
    "np.random.uniform(-1, 1, size=100)"
   ],
   "outputs": [
    {
     "data": {
      "text/plain": [
       "array([ 0.51407705, -0.34088564, -0.62698977,  0.4280116 ,  0.33293041,\n",
       "        0.22675656,  0.86827163, -0.70202618,  0.38388976,  0.41206605,\n",
       "        0.80718013, -0.9836492 , -0.61759477,  0.93984917,  0.28034366,\n",
       "       -0.08820831,  0.67527228,  0.12616929,  0.73805339, -0.57411595,\n",
       "        0.03928805, -0.88246993, -0.48825811, -0.21970186, -0.31126985,\n",
       "       -0.6143659 , -0.39094558, -0.95302047,  0.63464084,  0.66820147,\n",
       "       -0.97804453, -0.90687263, -0.84760986,  0.40659792, -0.55029817,\n",
       "       -0.1318928 ,  0.78411697,  0.70129394, -0.67522022, -0.07255266,\n",
       "       -0.84961242, -0.41114681, -0.18971322, -0.65650331, -0.10703908,\n",
       "       -0.83399105, -0.65246297, -0.97001178, -0.20090462,  0.40521938,\n",
       "       -0.78715625, -0.39177116, -0.67493672,  0.68694773, -0.21279524,\n",
       "       -0.02893788,  0.71687035, -0.04578704, -0.66273543,  0.2633314 ,\n",
       "       -0.19642678,  0.20024432, -0.88517658,  0.44590563, -0.11109673,\n",
       "       -0.14027343, -0.63554851,  0.06979609, -0.49573246,  0.50042386,\n",
       "        0.3240407 ,  0.24017488, -0.14331983, -0.21142087, -0.60847916,\n",
       "       -0.79171859,  0.59811392, -0.77970301, -0.1754287 , -0.27801959,\n",
       "        0.85683187, -0.70273358,  0.38512741, -0.10974508,  0.81632863,\n",
       "        0.22335952,  0.69969098,  0.00913751, -0.09192201,  0.34409854,\n",
       "        0.31040868,  0.66140899,  0.65859442, -0.39070415, -0.23257464,\n",
       "       -0.42949467, -0.22827968,  0.03608341, -0.88621266,  0.14480684])"
      ]
     },
     "execution_count": 2,
     "metadata": {},
     "output_type": "execute_result"
    }
   ],
   "execution_count": 2
  },
  {
   "cell_type": "markdown",
   "id": "f9424932",
   "metadata": {},
   "source": [
    "`print_out` prints command execution"
   ]
  },
  {
   "cell_type": "code",
   "id": "8a3e0ebd",
   "metadata": {
    "ExecuteTime": {
     "end_time": "2024-12-02T12:15:04.484479Z",
     "start_time": "2024-12-02T12:15:04.479967Z"
    }
   },
   "source": [
    "def print_output(command):\n",
    "    command = 'print(' + command + ')'\n",
    "    return exec(command)"
   ],
   "outputs": [],
   "execution_count": 3
  },
  {
   "cell_type": "code",
   "id": "5f7f3d9d",
   "metadata": {
    "ExecuteTime": {
     "end_time": "2024-12-02T12:15:05.282183Z",
     "start_time": "2024-12-02T12:15:05.278127Z"
    }
   },
   "source": [
    "print_output(command = 'np.random.uniform(-1, 1, size=100)')"
   ],
   "outputs": [
    {
     "name": "stdout",
     "output_type": "stream",
     "text": [
      "[-0.13765871  0.02888692 -0.38533686  0.11042077  0.94395697 -0.9507452\n",
      "  0.92961457  0.67887469  0.90492067  0.7554485   0.02989511  0.47241788\n",
      "  0.35017362  0.20228004 -0.22548429 -0.72538797 -0.89153595  0.54309199\n",
      " -0.86182511 -0.84572348 -0.18809935  0.84941057 -0.86426795  0.33447086\n",
      " -0.70641556 -0.36564351 -0.92259416  0.09975389  0.7132764   0.20741772\n",
      "  0.47029686  0.17331952  0.58507806 -0.59571319 -0.58040145  0.85577706\n",
      " -0.31621782  0.17065652 -0.3037388  -0.16547727 -0.50028429 -0.16517597\n",
      " -0.78881881  0.44968497 -0.18152642 -0.02931142  0.56973686 -0.10945861\n",
      " -0.70897733 -0.19864681 -0.32227465  0.98866022 -0.83953675  0.03337301\n",
      " -0.54145946 -0.79117459 -0.43450108  0.25210664  0.09060075 -0.53531034\n",
      " -0.89343434 -0.30927609  0.29317935 -0.60960937  0.30315684 -0.53299717\n",
      "  0.51085781 -0.84476471  0.35073839  0.9315844  -0.45507741 -0.12726035\n",
      " -0.18958066 -0.5419927  -0.40213565  0.39944341 -0.17503028 -0.2606458\n",
      " -0.58447645  0.53942862  0.50233918 -0.98114319  0.43886137  0.56222251\n",
      "  0.02575683 -0.45053812 -0.59377841  0.08011798 -0.9523653  -0.77390948\n",
      "  0.80689828 -0.89596539 -0.62173224  0.06097994  0.91529837 -0.9533599\n",
      " -0.58464044  0.37911894 -0.87511726 -0.9994196 ]\n"
     ]
    }
   ],
   "execution_count": 4
  },
  {
   "cell_type": "markdown",
   "id": "96d52b22",
   "metadata": {},
   "source": [
    "if `print_out` results in an error, this is printed"
   ]
  },
  {
   "cell_type": "code",
   "id": "117a7507",
   "metadata": {
    "ExecuteTime": {
     "end_time": "2024-12-02T12:15:06.992916Z",
     "start_time": "2024-12-02T12:15:06.685475Z"
    }
   },
   "source": [
    "print_output(command = 'nn.random.uniform(-1, 1, size=100)')"
   ],
   "outputs": [
    {
     "ename": "NameError",
     "evalue": "name 'nn' is not defined",
     "output_type": "error",
     "traceback": [
      "\u001B[1;31m---------------------------------------------------------------------------\u001B[0m",
      "\u001B[1;31mNameError\u001B[0m                                 Traceback (most recent call last)",
      "Cell \u001B[1;32mIn[5], line 1\u001B[0m\n\u001B[1;32m----> 1\u001B[0m \u001B[43mprint_output\u001B[49m\u001B[43m(\u001B[49m\u001B[43mcommand\u001B[49m\u001B[43m \u001B[49m\u001B[38;5;241;43m=\u001B[39;49m\u001B[43m \u001B[49m\u001B[38;5;124;43m'\u001B[39;49m\u001B[38;5;124;43mnn.random.uniform(-1, 1, size=100)\u001B[39;49m\u001B[38;5;124;43m'\u001B[39;49m\u001B[43m)\u001B[49m\n",
      "Cell \u001B[1;32mIn[3], line 3\u001B[0m, in \u001B[0;36mprint_output\u001B[1;34m(command)\u001B[0m\n\u001B[0;32m      1\u001B[0m \u001B[38;5;28;01mdef\u001B[39;00m \u001B[38;5;21mprint_output\u001B[39m(command):\n\u001B[0;32m      2\u001B[0m     command \u001B[38;5;241m=\u001B[39m \u001B[38;5;124m'\u001B[39m\u001B[38;5;124mprint(\u001B[39m\u001B[38;5;124m'\u001B[39m \u001B[38;5;241m+\u001B[39m command \u001B[38;5;241m+\u001B[39m \u001B[38;5;124m'\u001B[39m\u001B[38;5;124m)\u001B[39m\u001B[38;5;124m'\u001B[39m\n\u001B[1;32m----> 3\u001B[0m     \u001B[38;5;28;01mreturn\u001B[39;00m \u001B[43mexec\u001B[49m\u001B[43m(\u001B[49m\u001B[43mcommand\u001B[49m\u001B[43m)\u001B[49m\n",
      "File \u001B[1;32m<string>:1\u001B[0m\n",
      "\u001B[1;31mNameError\u001B[0m: name 'nn' is not defined"
     ]
    }
   ],
   "execution_count": 5
  },
  {
   "cell_type": "code",
   "id": "5cafc219",
   "metadata": {
    "ExecuteTime": {
     "end_time": "2024-12-02T12:15:07.130535Z",
     "start_time": "2024-12-02T12:15:07.108866Z"
    }
   },
   "source": [
    "print_output(command = 'np.random.uniform(-1, 1, siz=100)')"
   ],
   "outputs": [
    {
     "ename": "TypeError",
     "evalue": "uniform() got an unexpected keyword argument 'siz'",
     "output_type": "error",
     "traceback": [
      "\u001B[1;31m---------------------------------------------------------------------------\u001B[0m",
      "\u001B[1;31mTypeError\u001B[0m                                 Traceback (most recent call last)",
      "Cell \u001B[1;32mIn[6], line 1\u001B[0m\n\u001B[1;32m----> 1\u001B[0m \u001B[43mprint_output\u001B[49m\u001B[43m(\u001B[49m\u001B[43mcommand\u001B[49m\u001B[43m \u001B[49m\u001B[38;5;241;43m=\u001B[39;49m\u001B[43m \u001B[49m\u001B[38;5;124;43m'\u001B[39;49m\u001B[38;5;124;43mnp.random.uniform(-1, 1, siz=100)\u001B[39;49m\u001B[38;5;124;43m'\u001B[39;49m\u001B[43m)\u001B[49m\n",
      "Cell \u001B[1;32mIn[3], line 3\u001B[0m, in \u001B[0;36mprint_output\u001B[1;34m(command)\u001B[0m\n\u001B[0;32m      1\u001B[0m \u001B[38;5;28;01mdef\u001B[39;00m \u001B[38;5;21mprint_output\u001B[39m(command):\n\u001B[0;32m      2\u001B[0m     command \u001B[38;5;241m=\u001B[39m \u001B[38;5;124m'\u001B[39m\u001B[38;5;124mprint(\u001B[39m\u001B[38;5;124m'\u001B[39m \u001B[38;5;241m+\u001B[39m command \u001B[38;5;241m+\u001B[39m \u001B[38;5;124m'\u001B[39m\u001B[38;5;124m)\u001B[39m\u001B[38;5;124m'\u001B[39m\n\u001B[1;32m----> 3\u001B[0m     \u001B[38;5;28;01mreturn\u001B[39;00m \u001B[43mexec\u001B[49m\u001B[43m(\u001B[49m\u001B[43mcommand\u001B[49m\u001B[43m)\u001B[49m\n",
      "File \u001B[1;32m<string>:1\u001B[0m\n",
      "File \u001B[1;32mnumpy\\\\random\\\\mtrand.pyx:1073\u001B[0m, in \u001B[0;36mnumpy.random.mtrand.RandomState.uniform\u001B[1;34m()\u001B[0m\n",
      "\u001B[1;31mTypeError\u001B[0m: uniform() got an unexpected keyword argument 'siz'"
     ]
    }
   ],
   "execution_count": 6
  },
  {
   "cell_type": "markdown",
   "id": "5ff1b416",
   "metadata": {},
   "source": [
    "Create a function `get_SOS_help` which: <br>\n",
    "    - Prints \"works as intended\" if no error. <br>\n",
    "    - Prints the first link from stack overflow related to the error. As an example: <br>\n",
    "        `print_output(command = 'np.random.uniform(-1, 1, siz=100)'`\n",
    "        should retrieve the following link:\n",
    "        https://stackoverflow.com/questions/72537485/typeerror-uniform-got-an-unexpected-keyword-argument-low-size <br>\n",
    "    - Prints the most voted help\n",
    "    - Opens a new browser using the link"
   ]
  },
  {
   "cell_type": "markdown",
   "id": "a2dae86a",
   "metadata": {},
   "source": [
    "## Create a malfunctioning code and use this function on it"
   ]
  },
  {
   "cell_type": "markdown",
   "id": "03b2c2e5",
   "metadata": {},
   "source": []
  },
  {
   "cell_type": "markdown",
   "id": "23d03445",
   "metadata": {},
   "source": []
  },
  {
   "cell_type": "code",
   "id": "2433c6e2",
   "metadata": {
    "ExecuteTime": {
     "end_time": "2024-12-02T12:19:05.301790Z",
     "start_time": "2024-12-02T12:19:04.276505Z"
    }
   },
   "source": [
    "import os\n",
    "from openai import OpenAI\n",
    "from dotenv import load_dotenv\n",
    "import traceback\n",
    "import requests\n",
    "from bs4 import BeautifulSoup\n",
    "import pandas as pd\n",
    "\n",
    "# Cargar la clave de API desde el archivo .env\n",
    "load_dotenv()\n",
    "api_key = os.getenv(\"OPENAI_KEY\")\\\n",
    "\n",
    "\n",
    "# Configurar el cliente de OpenAI\n",
    "client = OpenAI(api_key=api_key)\n",
    "\n",
    "def get_SOS_help(error_message):\n",
    "    url = f\"https://www.google.com/search?q={error_message} site:stackoverflow.com\"\n",
    "    headers = {\n",
    "        \"User-Agent\": \"Mozilla/5.0 (Windows NT 10.0; Win64; x64) AppleWebKit/537.36 (KHTML, like Gecko) Chrome/94.0.4606.81 Safari/537.36\"\n",
    "    }\n",
    "    \n",
    "    try:\n",
    "        response = requests.get(url, headers=headers)\n",
    "        response.raise_for_status()\n",
    "        soup = BeautifulSoup(response.text, 'html.parser')\n",
    "    except requests.RequestException as e:\n",
    "        print(\"❌ Error al conectar con Google:\", e)\n",
    "        return None\n",
    "    \n",
    "    allData = soup.find_all(\"div\", {\"class\": \"g\"})\n",
    "    urls = []\n",
    "    \n",
    "    for data in allData:\n",
    "        link_tag = data.find(\"a\")\n",
    "        if link_tag and link_tag.get('href'):\n",
    "            urls.append(link_tag['href'])\n",
    "    \n",
    "    if not urls:\n",
    "        print(\"❌ No se encontraron resultados en StackOverflow\")\n",
    "        return None\n",
    "    \n",
    "    print(\"🔍 Los mejores resultados de StackOverflow son:\")\n",
    "    print(f\"👉 {urls[0]}\")\n",
    "    \n",
    "    try:\n",
    "        response = requests.get(urls[0], headers=headers)\n",
    "        response.raise_for_status()\n",
    "        soup = BeautifulSoup(response.text, 'html.parser')\n",
    "    except requests.RequestException as e:\n",
    "        print(\"❌ Error al conectar con StackOverflow:\", e)\n",
    "        return None\n",
    "\n",
    "    votes = soup.find_all(\"div\", {\"class\": \"js-vote-count\"})\n",
    "    comments = soup.find_all(\"div\", {\"class\": \"s-prose js-post-body\"})\n",
    "    \n",
    "    votes_list = [int(vote.get_text().strip()) for vote in votes if vote.get_text().strip().isdigit()]\n",
    "    comments_list = [comment.get_text().strip() for comment in comments]\n",
    "    \n",
    "    if not votes_list or not comments_list:\n",
    "        print(\"⚠️ No se pudieron extraer comentarios o votos de la respuesta.\")\n",
    "        return None\n",
    "    \n",
    "    data = list(zip(votes_list, comments_list))\n",
    "    df = pd.DataFrame(data, columns=['Votes', 'Comment'])\n",
    "    df = df.sort_values(by='Votes', ascending=False)\n",
    "    \n",
    "    top_comment = df.Comment.iloc[0]\n",
    "    print(\"\\n🎉 ¡Aquí tienes el comentario más votado! 🎉\\n\")\n",
    "    \n",
    "    return top_comment\n",
    "\n",
    "def get_AI_help(error_message):\n",
    "    # Construir el prompt con instrucciones específicas\n",
    "    prompt = (\n",
    "        f\"Eres un asistente que ayuda a programadores con errores de Python. \"\n",
    "        f\"Por favor, proporciona una explicación detallada y una solución para el error: '{error_message}'. \"\n",
    "        \"Usa el siguiente formato:\\n\\n\"\n",
    "        \"⚠️ **Error encontrado:** [Explicación del error]\\n\\n\"\n",
    "        \"💡 **Posible solución:** [Solución propuesta con ejemplo de código]\\n\\n\"\n",
    "        \"Incluye ejemplos de código y traceback cuando sea relevante.\"\n",
    "    )\n",
    "\n",
    "    try:\n",
    "        response = client.chat.completions.create(\n",
    "            model=\"gpt-3.5-turbo\",\n",
    "            messages=[{\"role\": \"user\", \"content\": prompt}],\n",
    "            max_tokens=500,\n",
    "            temperature=0.7\n",
    "        )\n",
    "        \n",
    "        # Extraer y devolver la respuesta formateada de la IA\n",
    "        return response.choices[0].message.content.strip()\n",
    "    except Exception as e:\n",
    "        print(f\"Error al generar el comentario con OpenAI: {e}\")\n",
    "        return None\n",
    "\n",
    "def execute_code_with_help(command):\n",
    "    try:\n",
    "        exec(command)\n",
    "    except Exception as e:\n",
    "        error_message = str(e)\n",
    "        full_traceback = traceback.format_exc()\n",
    "        print(f\"⚠️ Error encontrado: {error_message}\")\n",
    "        \n",
    "        # Buscar ayuda en StackOverflow\n",
    "        print(\"🔍 Buscando solución en StackOverflow...\")\n",
    "        solution = get_SOS_help(error_message)\n",
    "\n",
    "        if solution:\n",
    "            print(\"💡 Posible solución encontrada en StackOverflow:\")\n",
    "            print(solution)\n",
    "        else:\n",
    "            print(\"❌ No se encontró una solución relevante en StackOverflow.\")\n",
    "        \n",
    "        # Consultar a OpenAI para obtener una respuesta formateada\n",
    "        print(\"\\n🤖 Consultando a GPT-3.5 para obtener ayuda...\\n\")\n",
    "        ai_solution = get_AI_help(error_message)\n",
    "\n",
    "        if ai_solution:\n",
    "            print(ai_solution)\n",
    "        else:\n",
    "            print(\"❌ No se pudo obtener una respuesta de GPT-3.5.\")\n"
   ],
   "outputs": [],
   "execution_count": 7
  },
  {
   "cell_type": "code",
   "id": "d46ccd84",
   "metadata": {
    "ExecuteTime": {
     "end_time": "2024-12-02T12:19:12.435692Z",
     "start_time": "2024-12-02T12:19:08.759151Z"
    }
   },
   "source": [
    "execute_code_with_help('int(\"hola\")')\n"
   ],
   "outputs": [
    {
     "name": "stdout",
     "output_type": "stream",
     "text": [
      "⚠️ Error encontrado: invalid literal for int() with base 10: 'hola'\n",
      "🔍 Buscando solución en StackOverflow...\n",
      "🔍 Los mejores resultados de StackOverflow son:\n",
      "👉 https://stackoverflow.com/questions/1841565/valueerror-invalid-literal-for-int-with-base-10\n",
      "\n",
      "🎉 ¡Aquí tienes el comentario más votado! 🎉\n",
      "\n",
      "💡 Posible solución encontrada en StackOverflow:\n",
      "The error message means that the string provided to int could not be parsed as an integer. The part at the end, after the :, shows the string that was provided.\n",
      "In the case described in the question, the input was an empty string, written as ''.\n",
      "Here is another example - a string that represents a floating-point value cannot be converted directly with int:\n",
      ">>> int('55063.000000')\n",
      "Traceback (most recent call last):\n",
      "  File \"<stdin>\", line 1, in <module>\n",
      "ValueError: invalid literal for int() with base 10: '55063.000000'\n",
      "\n",
      "Instead, convert to float first:\n",
      ">>> int(float('55063.000000'))\n",
      "55063\n",
      "\n",
      "🤖 Consultando a GPT-3.5 para obtener ayuda...\n",
      "\n",
      "⚠️ **Error encontrado:** Este error ocurre cuando se intenta convertir una cadena que no contiene un número válido en un entero usando la función int() en Python.\n",
      "\n",
      "💡 **Posible solución:** Para solucionar este error, asegúrate de que la cadena que estás tratando de convertir a entero contenga solo caracteres numéricos. Puedes usar métodos como isdigit() para verificar si una cadena es un número antes de intentar convertirla.\n",
      "\n",
      "Aquí tienes un ejemplo de cómo manejar este error:\n",
      "\n",
      "```python\n",
      "cadena = 'hola'\n",
      "\n",
      "if cadena.isdigit():\n",
      "    numero = int(cadena)\n",
      "    print(numero)\n",
      "else:\n",
      "    print(\"La cadena no es un número válido\")\n",
      "```\n",
      "\n",
      "Este código primero verifica si la cadena es un número usando el método isdigit(), y solo intenta convertirla a entero si es un número válido. Si la cadena no es un número, se imprime un mensaje indicando que no es un número válido.\n"
     ]
    }
   ],
   "execution_count": 8
  },
  {
   "cell_type": "code",
   "execution_count": null,
   "id": "ea607ac9",
   "metadata": {},
   "outputs": [],
   "source": []
  }
 ],
 "metadata": {
  "kernelspec": {
   "display_name": "TR",
   "language": "python",
   "name": "python3"
  },
  "language_info": {
   "codemirror_mode": {
    "name": "ipython",
    "version": 3
   },
   "file_extension": ".py",
   "mimetype": "text/x-python",
   "name": "python",
   "nbconvert_exporter": "python",
   "pygments_lexer": "ipython3",
   "version": "3.9.20"
  }
 },
 "nbformat": 4,
 "nbformat_minor": 5
}
