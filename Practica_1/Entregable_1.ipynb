{
 "cells": [
  {
   "cell_type": "markdown",
   "id": "dcbfa81c",
   "metadata": {},
   "source": [
    "## Web scraping exercise\n",
    "\n",
    "Define a generic function `SOS_help` which retrieves help results from Stack Overflow Stunning results. <br>\n",
    "\n",
    "The following command works just fine:"
   ]
  },
  {
   "cell_type": "code",
   "execution_count": 51,
   "id": "a2298aae",
   "metadata": {},
   "outputs": [
    {
     "data": {
      "text/plain": [
       "array([ 0.91281544, -0.70179477,  0.57367539,  0.09482215, -0.91424812,\n",
       "       -0.74666109,  0.10628773, -0.62222768, -0.77655877, -0.83864248,\n",
       "        0.89045921, -0.87849387,  0.33230381, -0.91793642, -0.81910705,\n",
       "       -0.06084594, -0.08242117, -0.46385921,  0.77378505, -0.01221321,\n",
       "       -0.45619204, -0.55521811,  0.80939384,  0.77241744, -0.09916275,\n",
       "       -0.29510501, -0.80633498, -0.51016246, -0.61779853, -0.96774204,\n",
       "        0.33834669, -0.60262742, -0.74983365,  0.4468598 , -0.32799861,\n",
       "        0.57562517,  0.48762579,  0.96979235,  0.31465363, -0.58459219,\n",
       "       -0.88508568,  0.27545642, -0.85071428,  0.04723593,  0.65310677,\n",
       "        0.1344317 ,  0.75333026, -0.76590725,  0.22065691, -0.95203387,\n",
       "        0.95089381, -0.14801385,  0.54702798,  0.62889821,  0.61595941,\n",
       "       -0.49444997, -0.64860039,  0.92233711, -0.29631545,  0.08138908,\n",
       "        0.70304778,  0.62578479, -0.30357173,  0.29931855, -0.28545629,\n",
       "       -0.83533026,  0.3580433 , -0.90887997,  0.12840803,  0.92598334,\n",
       "        0.33351473, -0.63470918, -0.31258112,  0.07901508,  0.03942503,\n",
       "        0.02095343,  0.10735907, -0.05856661, -0.00770397, -0.46537755,\n",
       "       -0.97122472,  0.10587456, -0.12099471,  0.62504136,  0.37125775,\n",
       "       -0.02350027,  0.42635599, -0.28682602, -0.83041347, -0.42554252,\n",
       "        0.60154066,  0.56029   , -0.58380552, -0.47430071,  0.62967571,\n",
       "       -0.13361338,  0.16784133,  0.77204977,  0.14900451,  0.88749766])"
      ]
     },
     "execution_count": 51,
     "metadata": {},
     "output_type": "execute_result"
    }
   ],
   "source": [
    "import numpy as np\n",
    "import pandas as pd\n",
    "import requests\n",
    "import traceback\n",
    "np.random.uniform(-1, 1, size=100)"
   ]
  },
  {
   "cell_type": "markdown",
   "id": "f9424932",
   "metadata": {},
   "source": [
    "`print_out` prints command execution"
   ]
  },
  {
   "cell_type": "code",
   "execution_count": 52,
   "id": "8a3e0ebd",
   "metadata": {},
   "outputs": [],
   "source": [
    "def print_output(command):\n",
    "    command = 'print(' + command + ')'\n",
    "    return exec(command)"
   ]
  },
  {
   "cell_type": "code",
   "execution_count": 53,
   "id": "5f7f3d9d",
   "metadata": {},
   "outputs": [
    {
     "name": "stdout",
     "output_type": "stream",
     "text": [
      "[ 9.39735783e-01  5.26908664e-01 -5.02901105e-01 -3.80979346e-01\n",
      " -7.96522657e-01  6.73489462e-01 -6.90705473e-02  3.71585246e-01\n",
      "  2.72001149e-01  2.30450781e-01  7.91044788e-01 -4.21789691e-01\n",
      "  2.91654473e-01  2.54893733e-01  5.05995370e-02  1.28403020e-01\n",
      " -8.60895269e-01  3.24629899e-01  2.62344286e-01  5.75659298e-01\n",
      "  1.70376202e-01  6.11301601e-01 -7.08684016e-01 -8.91423108e-01\n",
      "  1.11166087e-01 -5.20173480e-01 -8.32955730e-01 -6.87129606e-01\n",
      "  9.22905663e-01  5.20514863e-01  3.25954557e-01 -5.73889697e-01\n",
      " -3.21730542e-01 -6.45513670e-01  6.19810551e-01  2.77314886e-01\n",
      "  4.14734514e-01 -1.36742878e-01  6.77559580e-01  3.72832769e-01\n",
      " -1.32269338e-01  9.63675368e-01  6.98997602e-01  6.89443701e-01\n",
      "  4.78551084e-01 -6.92403667e-01 -9.82795955e-01 -4.99484152e-01\n",
      "  4.90753386e-01 -2.70373240e-01 -1.38751302e-01 -5.58731030e-01\n",
      " -8.50024772e-01 -3.39280633e-01 -5.89740494e-01  7.88983616e-01\n",
      " -6.05174663e-01  9.43125645e-02 -5.55368244e-01 -9.74039598e-01\n",
      " -4.02168197e-01  6.50968548e-01  6.78765094e-01 -2.36789291e-01\n",
      "  4.61525033e-01 -1.35878868e-01  1.79596276e-01 -8.99680920e-01\n",
      "  2.50654045e-01 -7.23440433e-01  1.12381894e-01  6.93950662e-01\n",
      " -7.85463226e-01  4.71509926e-01  7.06891939e-01 -8.17246132e-01\n",
      "  9.66271430e-01  3.85508758e-01 -7.56439329e-01 -4.33616258e-01\n",
      " -9.80117232e-01 -4.46878626e-01  4.22041548e-02 -7.02885760e-01\n",
      "  2.44902143e-01 -4.72991766e-04  2.18672773e-01 -3.89758240e-01\n",
      " -8.49375306e-01 -9.43958500e-01  7.18998286e-01 -7.63028206e-01\n",
      "  3.88939166e-01 -4.96264638e-01  2.49049269e-01  6.73329231e-01\n",
      "  7.15708247e-02 -4.88864287e-01  6.09984868e-01  5.01281760e-01]\n"
     ]
    }
   ],
   "source": [
    "print_output(command = 'np.random.uniform(-1, 1, size=100)')"
   ]
  },
  {
   "cell_type": "markdown",
   "id": "96d52b22",
   "metadata": {},
   "source": [
    "if `print_out` results in an error, this is printed"
   ]
  },
  {
   "cell_type": "code",
   "execution_count": 54,
   "id": "117a7507",
   "metadata": {},
   "outputs": [
    {
     "ename": "NameError",
     "evalue": "name 'nn' is not defined",
     "output_type": "error",
     "traceback": [
      "\u001b[0;31m---------------------------------------------------------------------------\u001b[0m",
      "\u001b[0;31mNameError\u001b[0m                                 Traceback (most recent call last)",
      "Cell \u001b[0;32mIn[54], line 1\u001b[0m\n\u001b[0;32m----> 1\u001b[0m \u001b[43mprint_output\u001b[49m\u001b[43m(\u001b[49m\u001b[43mcommand\u001b[49m\u001b[43m \u001b[49m\u001b[38;5;241;43m=\u001b[39;49m\u001b[43m \u001b[49m\u001b[38;5;124;43m'\u001b[39;49m\u001b[38;5;124;43mnn.random.uniform(-1, 1, size=100)\u001b[39;49m\u001b[38;5;124;43m'\u001b[39;49m\u001b[43m)\u001b[49m\n",
      "Cell \u001b[0;32mIn[52], line 3\u001b[0m, in \u001b[0;36mprint_output\u001b[0;34m(command)\u001b[0m\n\u001b[1;32m      1\u001b[0m \u001b[38;5;28;01mdef\u001b[39;00m \u001b[38;5;21mprint_output\u001b[39m(command):\n\u001b[1;32m      2\u001b[0m     command \u001b[38;5;241m=\u001b[39m \u001b[38;5;124m'\u001b[39m\u001b[38;5;124mprint(\u001b[39m\u001b[38;5;124m'\u001b[39m \u001b[38;5;241m+\u001b[39m command \u001b[38;5;241m+\u001b[39m \u001b[38;5;124m'\u001b[39m\u001b[38;5;124m)\u001b[39m\u001b[38;5;124m'\u001b[39m\n\u001b[0;32m----> 3\u001b[0m     \u001b[38;5;28;01mreturn\u001b[39;00m \u001b[43mexec\u001b[49m\u001b[43m(\u001b[49m\u001b[43mcommand\u001b[49m\u001b[43m)\u001b[49m\n",
      "File \u001b[0;32m<string>:1\u001b[0m\n",
      "\u001b[0;31mNameError\u001b[0m: name 'nn' is not defined"
     ]
    }
   ],
   "source": [
    "print_output(command = 'nn.random.uniform(-1, 1, size=100)')"
   ]
  },
  {
   "cell_type": "code",
   "execution_count": null,
   "id": "5cafc219",
   "metadata": {},
   "outputs": [
    {
     "ename": "TypeError",
     "evalue": "uniform() got an unexpected keyword argument 'siz'",
     "output_type": "error",
     "traceback": [
      "\u001b[1;31m---------------------------------------------------------------------------\u001b[0m",
      "\u001b[1;31mTypeError\u001b[0m                                 Traceback (most recent call last)",
      "Cell \u001b[1;32mIn[56], line 1\u001b[0m\n\u001b[1;32m----> 1\u001b[0m \u001b[43mprint_output\u001b[49m\u001b[43m(\u001b[49m\u001b[43mcommand\u001b[49m\u001b[43m \u001b[49m\u001b[38;5;241;43m=\u001b[39;49m\u001b[43m \u001b[49m\u001b[38;5;124;43m'\u001b[39;49m\u001b[38;5;124;43mnp.random.uniform(-1, 1, siz=100)\u001b[39;49m\u001b[38;5;124;43m'\u001b[39;49m\u001b[43m)\u001b[49m\n",
      "Cell \u001b[1;32mIn[53], line 3\u001b[0m, in \u001b[0;36mprint_output\u001b[1;34m(command)\u001b[0m\n\u001b[0;32m      1\u001b[0m \u001b[38;5;28;01mdef\u001b[39;00m \u001b[38;5;21mprint_output\u001b[39m(command):\n\u001b[0;32m      2\u001b[0m     command \u001b[38;5;241m=\u001b[39m \u001b[38;5;124m'\u001b[39m\u001b[38;5;124mprint(\u001b[39m\u001b[38;5;124m'\u001b[39m \u001b[38;5;241m+\u001b[39m command \u001b[38;5;241m+\u001b[39m \u001b[38;5;124m'\u001b[39m\u001b[38;5;124m)\u001b[39m\u001b[38;5;124m'\u001b[39m\n\u001b[1;32m----> 3\u001b[0m     \u001b[38;5;28;01mreturn\u001b[39;00m \u001b[43mexec\u001b[49m\u001b[43m(\u001b[49m\u001b[43mcommand\u001b[49m\u001b[43m)\u001b[49m\n",
      "File \u001b[1;32m<string>:1\u001b[0m\n",
      "File \u001b[1;32mnumpy\\\\random\\\\mtrand.pyx:1073\u001b[0m, in \u001b[0;36mnumpy.random.mtrand.RandomState.uniform\u001b[1;34m()\u001b[0m\n",
      "\u001b[1;31mTypeError\u001b[0m: uniform() got an unexpected keyword argument 'siz'"
     ]
    }
   ],
   "source": [
    "print_output(command = 'np.random.uniform(-1, 1, siz=100)')"
   ]
  },
  {
   "cell_type": "markdown",
   "id": "5ff1b416",
   "metadata": {},
   "source": [
    "Create a function `get_SOS_help` which: <br>\n",
    "    - Prints \"works as intended\" if no error. <br>\n",
    "    - Prints the first link from stack overflow related to the error. As an example: <br>\n",
    "        `print_output(command = 'np.random.uniform(-1, 1, siz=100)'`\n",
    "        should retrieve the following link:\n",
    "        https://stackoverflow.com/questions/72537485/typeerror-uniform-got-an-unexpected-keyword-argument-low-size <br>\n",
    "    - Prints the most voted help\n",
    "    - Opens a new browser using the link"
   ]
  },
  {
   "cell_type": "markdown",
   "id": "a2dae86a",
   "metadata": {},
   "source": [
    "## Create a malfunctioning code and use this function on it"
   ]
  },
  {
   "cell_type": "markdown",
   "id": "03b2c2e5",
   "metadata": {},
   "source": []
  },
  {
   "cell_type": "markdown",
   "id": "23d03445",
   "metadata": {},
   "source": []
  },
  {
   "cell_type": "code",
   "execution_count": 1,
   "id": "2433c6e2",
   "metadata": {},
   "outputs": [],
   "source": [
    "import os\n",
    "from openai import OpenAI\n",
    "from dotenv import load_dotenv\n",
    "import traceback\n",
    "import requests\n",
    "from bs4 import BeautifulSoup\n",
    "import pandas as pd\n",
    "\n",
    "# Cargar la clave de API desde el archivo .env\n",
    "load_dotenv()\n",
    "api_key = os.getenv(\"OPENAI_KEY\")\n",
    "\n",
    "# Configurar el cliente de OpenAI\n",
    "client = OpenAI(api_key=api_key)\n",
    "\n",
    "def get_SOS_help(error_message):\n",
    "    url = f\"https://www.google.com/search?q={error_message} site:stackoverflow.com\"\n",
    "    headers = {\n",
    "        \"User-Agent\": \"Mozilla/5.0 (Windows NT 10.0; Win64; x64) AppleWebKit/537.36 (KHTML, like Gecko) Chrome/94.0.4606.81 Safari/537.36\"\n",
    "    }\n",
    "    \n",
    "    try:\n",
    "        response = requests.get(url, headers=headers)\n",
    "        response.raise_for_status()\n",
    "        soup = BeautifulSoup(response.text, 'html.parser')\n",
    "    except requests.RequestException as e:\n",
    "        print(\"❌ Error al conectar con Google:\", e)\n",
    "        return None\n",
    "    \n",
    "    allData = soup.find_all(\"div\", {\"class\": \"g\"})\n",
    "    urls = []\n",
    "    \n",
    "    for data in allData:\n",
    "        link_tag = data.find(\"a\")\n",
    "        if link_tag and link_tag.get('href'):\n",
    "            urls.append(link_tag['href'])\n",
    "    \n",
    "    if not urls:\n",
    "        print(\"❌ No se encontraron resultados en StackOverflow\")\n",
    "        return None\n",
    "    \n",
    "    print(\"🔍 Los mejores resultados de StackOverflow son:\")\n",
    "    print(f\"👉 {urls[0]}\")\n",
    "    \n",
    "    try:\n",
    "        response = requests.get(urls[0], headers=headers)\n",
    "        response.raise_for_status()\n",
    "        soup = BeautifulSoup(response.text, 'html.parser')\n",
    "    except requests.RequestException as e:\n",
    "        print(\"❌ Error al conectar con StackOverflow:\", e)\n",
    "        return None\n",
    "\n",
    "    votes = soup.find_all(\"div\", {\"class\": \"js-vote-count\"})\n",
    "    comments = soup.find_all(\"div\", {\"class\": \"s-prose js-post-body\"})\n",
    "    \n",
    "    votes_list = [int(vote.get_text().strip()) for vote in votes if vote.get_text().strip().isdigit()]\n",
    "    comments_list = [comment.get_text().strip() for comment in comments]\n",
    "    \n",
    "    if not votes_list or not comments_list:\n",
    "        print(\"⚠️ No se pudieron extraer comentarios o votos de la respuesta.\")\n",
    "        return None\n",
    "    \n",
    "    data = list(zip(votes_list, comments_list))\n",
    "    df = pd.DataFrame(data, columns=['Votes', 'Comment'])\n",
    "    df = df.sort_values(by='Votes', ascending=False)\n",
    "    \n",
    "    top_comment = df.Comment.iloc[0]\n",
    "    print(\"\\n🎉 ¡Aquí tienes el comentario más votado! 🎉\\n\")\n",
    "    \n",
    "    return top_comment\n",
    "\n",
    "def get_AI_help(error_message):\n",
    "    # Construir el prompt con instrucciones específicas\n",
    "    prompt = (\n",
    "        f\"Eres un asistente que ayuda a programadores con errores de Python. \"\n",
    "        f\"Por favor, proporciona una explicación detallada y una solución para el error: '{error_message}'. \"\n",
    "        \"Usa el siguiente formato:\\n\\n\"\n",
    "        \"⚠️ **Error encontrado:** [Explicación del error]\\n\\n\"\n",
    "        \"💡 **Posible solución:** [Solución propuesta con ejemplo de código]\\n\\n\"\n",
    "        \"Incluye ejemplos de código y traceback cuando sea relevante.\"\n",
    "    )\n",
    "\n",
    "    try:\n",
    "        response = client.chat.completions.create(\n",
    "            model=\"gpt-3.5-turbo\",\n",
    "            messages=[{\"role\": \"user\", \"content\": prompt}],\n",
    "            max_tokens=500,\n",
    "            temperature=0.7\n",
    "        )\n",
    "        \n",
    "        # Extraer y devolver la respuesta formateada de la IA\n",
    "        return response.choices[0].message.content.strip()\n",
    "    except Exception as e:\n",
    "        print(f\"Error al generar el comentario con OpenAI: {e}\")\n",
    "        return None\n",
    "\n",
    "def execute_code_with_help(command):\n",
    "    try:\n",
    "        exec(command)\n",
    "    except Exception as e:\n",
    "        error_message = str(e)\n",
    "        full_traceback = traceback.format_exc()\n",
    "        print(f\"⚠️ Error encontrado: {error_message}\")\n",
    "        \n",
    "        # Buscar ayuda en StackOverflow\n",
    "        print(\"🔍 Buscando solución en StackOverflow...\")\n",
    "        solution = get_SOS_help(error_message)\n",
    "\n",
    "        if solution:\n",
    "            print(\"💡 Posible solución encontrada en StackOverflow:\")\n",
    "            print(solution)\n",
    "        else:\n",
    "            print(\"❌ No se encontró una solución relevante en StackOverflow.\")\n",
    "        \n",
    "        # Consultar a OpenAI para obtener una respuesta formateada\n",
    "        print(\"\\n🤖 Consultando a GPT-3.5 para obtener ayuda...\\n\")\n",
    "        ai_solution = get_AI_help(error_message)\n",
    "\n",
    "        if ai_solution:\n",
    "            print(ai_solution)\n",
    "        else:\n",
    "            print(\"❌ No se pudo obtener una respuesta de GPT-3.5.\")\n"
   ]
  },
  {
   "cell_type": "code",
   "execution_count": 2,
   "id": "d46ccd84",
   "metadata": {},
   "outputs": [
    {
     "name": "stdout",
     "output_type": "stream",
     "text": [
      "⚠️ Error encontrado: invalid literal for int() with base 10: 'hola'\n",
      "🔍 Buscando solución en StackOverflow...\n",
      "🔍 Los mejores resultados de StackOverflow son:\n",
      "👉 https://stackoverflow.com/questions/1841565/valueerror-invalid-literal-for-int-with-base-10\n",
      "\n",
      "🎉 ¡Aquí tienes el comentario más votado! 🎉\n",
      "\n",
      "💡 Posible solución encontrada en StackOverflow:\n",
      "The error message means that the string provided to int could not be parsed as an integer. The part at the end, after the :, shows the string that was provided.\n",
      "In the case described in the question, the input was an empty string, written as ''.\n",
      "Here is another example - a string that represents a floating-point value cannot be converted directly with int:\n",
      ">>> int('55063.000000')\n",
      "Traceback (most recent call last):\n",
      "  File \"<stdin>\", line 1, in <module>\n",
      "ValueError: invalid literal for int() with base 10: '55063.000000'\n",
      "\n",
      "Instead, convert to float first:\n",
      ">>> int(float('55063.000000'))\n",
      "55063\n",
      "\n",
      "🤖 Consultando a GPT-3.5 para obtener ayuda...\n",
      "\n",
      "⚠️ **Error encontrado:** Este error se produce cuando intentamos convertir una cadena que no representa un número entero válido en Python en un entero utilizando la función int().\n",
      "\n",
      "💡 **Posible solución:** Para solucionar este error, primero debemos asegurarnos de que la cadena que estamos intentando convertir a entero contenga solo caracteres numéricos. Podemos hacer esto utilizando métodos como isnumeric() o isdigit() para verificar si la cadena es un número válido antes de intentar convertirla.\n",
      "\n",
      "Aquí hay un ejemplo de cómo manejar este error:\n",
      "\n",
      "```python\n",
      "num_str = 'hola'\n",
      "\n",
      "if num_str.isnumeric():\n",
      "    num_int = int(num_str)\n",
      "    print(num_int)\n",
      "else:\n",
      "    print(\"La cadena no representa un número entero válido.\")\n",
      "```\n",
      "\n",
      "En este caso, al ejecutar este código, obtendríamos el mensaje \"La cadena no representa un número entero válido.\" en lugar de un error al intentar convertir la cadena 'hola' en un entero.\n"
     ]
    }
   ],
   "source": [
    "execute_code_with_help('int(\"hola\")')\n"
   ]
  },
  {
   "cell_type": "code",
   "execution_count": null,
   "id": "ea607ac9",
   "metadata": {},
   "outputs": [],
   "source": []
  }
 ],
 "metadata": {
  "kernelspec": {
   "display_name": "TR",
   "language": "python",
   "name": "python3"
  },
  "language_info": {
   "codemirror_mode": {
    "name": "ipython",
    "version": 3
   },
   "file_extension": ".py",
   "mimetype": "text/x-python",
   "name": "python",
   "nbconvert_exporter": "python",
   "pygments_lexer": "ipython3",
   "version": "3.9.20"
  }
 },
 "nbformat": 4,
 "nbformat_minor": 5
}
