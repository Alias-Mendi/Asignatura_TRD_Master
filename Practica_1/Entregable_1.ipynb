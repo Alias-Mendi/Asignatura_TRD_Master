{
 "cells": [
  {
   "cell_type": "markdown",
   "id": "dcbfa81c",
   "metadata": {},
   "source": [
    "## Web scraping exercise\n",
    "\n",
    "Define a generic function `SOS_help` which retrieves help results from Stack Overflow Stunning results. <br>\n",
    "\n",
    "The following command works just fine:"
   ]
  },
  {
   "cell_type": "code",
   "execution_count": 3,
   "id": "a2298aae",
   "metadata": {
    "ExecuteTime": {
     "end_time": "2024-12-02T12:15:01.853130Z",
     "start_time": "2024-12-02T12:15:01.847130Z"
    }
   },
   "outputs": [
    {
     "data": {
      "text/plain": [
       "array([-0.40773625,  0.81176446,  0.72645119, -0.0459896 , -0.40666746,\n",
       "       -0.99381218, -0.91939381,  0.77033487,  0.80817648, -0.32997464,\n",
       "       -0.70024738, -0.13368828,  0.66374592, -0.4276838 ,  0.67467887,\n",
       "       -0.91260591,  0.48044207, -0.4919603 ,  0.12043443, -0.66953613,\n",
       "        0.95478493, -0.00523688,  0.82214906,  0.42209764,  0.70103916,\n",
       "       -0.48720515,  0.83457048, -0.27932136,  0.31832036,  0.53427355,\n",
       "        0.24421323,  0.04629889,  0.6294784 , -0.6083971 ,  0.24484633,\n",
       "        0.98482922, -0.21221029,  0.84640803, -0.36696821, -0.00660736,\n",
       "        0.50102283, -0.94632513, -0.70377903,  0.04360287,  0.35855261,\n",
       "       -0.49263054,  0.75692524,  0.16210997,  0.40933262, -0.65074272,\n",
       "        0.35801824,  0.40172286,  0.4840267 , -0.05141395, -0.47535601,\n",
       "       -0.54178091,  0.9895423 ,  0.35309066, -0.72833947,  0.05938232,\n",
       "       -0.5552884 , -0.1569402 ,  0.3285149 , -0.24700688,  0.39813186,\n",
       "       -0.92633859,  0.16442011, -0.17216845, -0.24513454,  0.36548933,\n",
       "       -0.46902051,  0.82214256, -0.85786955,  0.15392303,  0.10566019,\n",
       "       -0.00333746, -0.6828666 ,  0.12879408, -0.67183615,  0.33967535,\n",
       "       -0.56353849, -0.77312947,  0.23807454, -0.65712905,  0.33366409,\n",
       "        0.24493509, -0.07542914,  0.1548539 , -0.30804377,  0.15547242,\n",
       "        0.06901378,  0.87961424,  0.80686854, -0.06599698,  0.56506135,\n",
       "        0.30636966, -0.56535026,  0.75614407,  0.25637006,  0.39182038])"
      ]
     },
     "execution_count": 3,
     "metadata": {},
     "output_type": "execute_result"
    }
   ],
   "source": [
    "import numpy as np\n",
    "import pandas as pd\n",
    "import requests\n",
    "import traceback\n",
    "np.random.uniform(-1, 1, size=100)"
   ]
  },
  {
   "cell_type": "markdown",
   "id": "f9424932",
   "metadata": {},
   "source": [
    "`print_out` prints command execution"
   ]
  },
  {
   "cell_type": "code",
   "execution_count": 4,
   "id": "8a3e0ebd",
   "metadata": {
    "ExecuteTime": {
     "end_time": "2024-12-02T12:15:04.484479Z",
     "start_time": "2024-12-02T12:15:04.479967Z"
    }
   },
   "outputs": [],
   "source": [
    "def print_output(command):\n",
    "    command = 'print(' + command + ')'\n",
    "    return exec(command)"
   ]
  },
  {
   "cell_type": "code",
   "execution_count": 5,
   "id": "5f7f3d9d",
   "metadata": {
    "ExecuteTime": {
     "end_time": "2024-12-02T12:15:05.282183Z",
     "start_time": "2024-12-02T12:15:05.278127Z"
    }
   },
   "outputs": [
    {
     "name": "stdout",
     "output_type": "stream",
     "text": [
      "[ 0.15290593 -0.5485631   0.14909195 -0.39235759 -0.72940938 -0.68302318\n",
      "  0.83195962  0.4352119  -0.25402972  0.06554824 -0.43369561 -0.8548954\n",
      " -0.86131841  0.00646655 -0.17618237 -0.9194963  -0.46972425 -0.89282944\n",
      " -0.78689991  0.60195441 -0.26932346 -0.02578805 -0.42556805  0.75869001\n",
      " -0.08452757  0.52378133 -0.50808762  0.13240001 -0.43390195  0.7588319\n",
      "  0.2400353  -0.45800304  0.07995439  0.88990835 -0.12362981  0.02984394\n",
      " -0.96926338  0.99519036 -0.3710208   0.03478207  0.95038194 -0.16411235\n",
      "  0.89255754 -0.95280733  0.67039594  0.26115719  0.43415585  0.48587332\n",
      "  0.46692522 -0.97203184 -0.95785736  0.58645067 -0.66266431  0.14403065\n",
      " -0.88428984  0.15344608  0.6069378   0.988799   -0.68714043 -0.41797393\n",
      " -0.89214938 -0.2133785  -0.30428374 -0.64256044 -0.74432015 -0.92587704\n",
      "  0.05363466 -0.86502809 -0.68878371 -0.47564837 -0.88610598  0.35331937\n",
      " -0.20261093 -0.78413648  0.12680174  0.11888673 -0.16446678 -0.27796811\n",
      "  0.7131275   0.73917536 -0.91070163  0.02655728 -0.03062895  0.56387059\n",
      " -0.22403139  0.18125272  0.15862698  0.15001821 -0.82605064 -0.52599271\n",
      " -0.8308455   0.14068797  0.84901302 -0.64922721  0.30102672 -0.94955761\n",
      "  0.41743449 -0.16154065 -0.40559565 -0.9334793 ]\n"
     ]
    }
   ],
   "source": [
    "print_output(command = 'np.random.uniform(-1, 1, size=100)')"
   ]
  },
  {
   "cell_type": "markdown",
   "id": "96d52b22",
   "metadata": {},
   "source": [
    "if `print_out` results in an error, this is printed"
   ]
  },
  {
   "cell_type": "code",
   "execution_count": 5,
   "id": "117a7507",
   "metadata": {
    "ExecuteTime": {
     "end_time": "2024-12-02T12:15:06.992916Z",
     "start_time": "2024-12-02T12:15:06.685475Z"
    }
   },
   "outputs": [
    {
     "ename": "NameError",
     "evalue": "name 'nn' is not defined",
     "output_type": "error",
     "traceback": [
      "\u001b[1;31m---------------------------------------------------------------------------\u001b[0m",
      "\u001b[1;31mNameError\u001b[0m                                 Traceback (most recent call last)",
      "Cell \u001b[1;32mIn[5], line 1\u001b[0m\n\u001b[1;32m----> 1\u001b[0m \u001b[43mprint_output\u001b[49m\u001b[43m(\u001b[49m\u001b[43mcommand\u001b[49m\u001b[43m \u001b[49m\u001b[38;5;241;43m=\u001b[39;49m\u001b[43m \u001b[49m\u001b[38;5;124;43m'\u001b[39;49m\u001b[38;5;124;43mnn.random.uniform(-1, 1, size=100)\u001b[39;49m\u001b[38;5;124;43m'\u001b[39;49m\u001b[43m)\u001b[49m\n",
      "Cell \u001b[1;32mIn[3], line 3\u001b[0m, in \u001b[0;36mprint_output\u001b[1;34m(command)\u001b[0m\n\u001b[0;32m      1\u001b[0m \u001b[38;5;28;01mdef\u001b[39;00m \u001b[38;5;21mprint_output\u001b[39m(command):\n\u001b[0;32m      2\u001b[0m     command \u001b[38;5;241m=\u001b[39m \u001b[38;5;124m'\u001b[39m\u001b[38;5;124mprint(\u001b[39m\u001b[38;5;124m'\u001b[39m \u001b[38;5;241m+\u001b[39m command \u001b[38;5;241m+\u001b[39m \u001b[38;5;124m'\u001b[39m\u001b[38;5;124m)\u001b[39m\u001b[38;5;124m'\u001b[39m\n\u001b[1;32m----> 3\u001b[0m     \u001b[38;5;28;01mreturn\u001b[39;00m \u001b[43mexec\u001b[49m\u001b[43m(\u001b[49m\u001b[43mcommand\u001b[49m\u001b[43m)\u001b[49m\n",
      "File \u001b[1;32m<string>:1\u001b[0m\n",
      "\u001b[1;31mNameError\u001b[0m: name 'nn' is not defined"
     ]
    }
   ],
   "source": [
    "print_output(command = 'nn.random.uniform(-1, 1, size=100)')"
   ]
  },
  {
   "cell_type": "code",
   "execution_count": 6,
   "id": "5cafc219",
   "metadata": {
    "ExecuteTime": {
     "end_time": "2024-12-02T12:15:07.130535Z",
     "start_time": "2024-12-02T12:15:07.108866Z"
    }
   },
   "outputs": [
    {
     "ename": "TypeError",
     "evalue": "uniform() got an unexpected keyword argument 'siz'",
     "output_type": "error",
     "traceback": [
      "\u001b[1;31m---------------------------------------------------------------------------\u001b[0m",
      "\u001b[1;31mTypeError\u001b[0m                                 Traceback (most recent call last)",
      "Cell \u001b[1;32mIn[6], line 1\u001b[0m\n\u001b[1;32m----> 1\u001b[0m \u001b[43mprint_output\u001b[49m\u001b[43m(\u001b[49m\u001b[43mcommand\u001b[49m\u001b[43m \u001b[49m\u001b[38;5;241;43m=\u001b[39;49m\u001b[43m \u001b[49m\u001b[38;5;124;43m'\u001b[39;49m\u001b[38;5;124;43mnp.random.uniform(-1, 1, siz=100)\u001b[39;49m\u001b[38;5;124;43m'\u001b[39;49m\u001b[43m)\u001b[49m\n",
      "Cell \u001b[1;32mIn[3], line 3\u001b[0m, in \u001b[0;36mprint_output\u001b[1;34m(command)\u001b[0m\n\u001b[0;32m      1\u001b[0m \u001b[38;5;28;01mdef\u001b[39;00m \u001b[38;5;21mprint_output\u001b[39m(command):\n\u001b[0;32m      2\u001b[0m     command \u001b[38;5;241m=\u001b[39m \u001b[38;5;124m'\u001b[39m\u001b[38;5;124mprint(\u001b[39m\u001b[38;5;124m'\u001b[39m \u001b[38;5;241m+\u001b[39m command \u001b[38;5;241m+\u001b[39m \u001b[38;5;124m'\u001b[39m\u001b[38;5;124m)\u001b[39m\u001b[38;5;124m'\u001b[39m\n\u001b[1;32m----> 3\u001b[0m     \u001b[38;5;28;01mreturn\u001b[39;00m \u001b[43mexec\u001b[49m\u001b[43m(\u001b[49m\u001b[43mcommand\u001b[49m\u001b[43m)\u001b[49m\n",
      "File \u001b[1;32m<string>:1\u001b[0m\n",
      "File \u001b[1;32mnumpy\\\\random\\\\mtrand.pyx:1073\u001b[0m, in \u001b[0;36mnumpy.random.mtrand.RandomState.uniform\u001b[1;34m()\u001b[0m\n",
      "\u001b[1;31mTypeError\u001b[0m: uniform() got an unexpected keyword argument 'siz'"
     ]
    }
   ],
   "source": [
    "print_output(command = 'np.random.uniform(-1, 1, siz=100)')"
   ]
  },
  {
   "cell_type": "markdown",
   "id": "5ff1b416",
   "metadata": {},
   "source": [
    "Create a function `get_SOS_help` which: <br>\n",
    "    - Prints \"works as intended\" if no error. <br>\n",
    "    - Prints the first link from stack overflow related to the error. As an example: <br>\n",
    "        `print_output(command = 'np.random.uniform(-1, 1, siz=100)'`\n",
    "        should retrieve the following link:\n",
    "        https://stackoverflow.com/questions/72537485/typeerror-uniform-got-an-unexpected-keyword-argument-low-size <br>\n",
    "    - Prints the most voted help\n",
    "    - Opens a new browser using the link"
   ]
  },
  {
   "cell_type": "markdown",
   "id": "a2dae86a",
   "metadata": {},
   "source": [
    "## Create a malfunctioning code and use this function on it"
   ]
  },
  {
   "cell_type": "markdown",
   "id": "03b2c2e5",
   "metadata": {},
   "source": []
  },
  {
   "cell_type": "markdown",
   "id": "23d03445",
   "metadata": {},
   "source": []
  },
  {
   "cell_type": "code",
   "execution_count": 6,
   "id": "2433c6e2",
   "metadata": {
    "ExecuteTime": {
     "end_time": "2024-12-02T12:19:05.301790Z",
     "start_time": "2024-12-02T12:19:04.276505Z"
    }
   },
   "outputs": [],
   "source": [
    "import os\n",
    "from openai import OpenAI\n",
    "from dotenv import load_dotenv\n",
    "import traceback\n",
    "import requests\n",
    "from bs4 import BeautifulSoup\n",
    "import pandas as pd\n",
    "\n",
    "# Cargar la clave de API desde el archivo .env\n",
    "load_dotenv()\n",
    "api_key = os.getenv(\"OPENAI_KEY\")\\\n",
    "\n",
    "\n",
    "# Configurar el cliente de OpenAI\n",
    "client = OpenAI(api_key=api_key)\n",
    "\n",
    "def get_SOS_help(error_message):\n",
    "    url = f\"https://www.google.com/search?q={error_message} site:stackoverflow.com\"\n",
    "    headers = {\n",
    "        \"User-Agent\": \"Mozilla/5.0 (Windows NT 10.0; Win64; x64) AppleWebKit/537.36 (KHTML, like Gecko) Chrome/94.0.4606.81 Safari/537.36\"\n",
    "    }\n",
    "    \n",
    "    try:\n",
    "        response = requests.get(url, headers=headers)\n",
    "        response.raise_for_status()\n",
    "        soup = BeautifulSoup(response.text, 'html.parser')\n",
    "    except requests.RequestException as e:\n",
    "        print(\"❌ Error al conectar con Google:\", e)\n",
    "        return None\n",
    "    \n",
    "    allData = soup.find_all(\"div\", {\"class\": \"g\"})\n",
    "    urls = []\n",
    "    \n",
    "    for data in allData:\n",
    "        link_tag = data.find(\"a\")\n",
    "        if link_tag and link_tag.get('href'):\n",
    "            urls.append(link_tag['href'])\n",
    "    \n",
    "    if not urls:\n",
    "        print(\"❌ No se encontraron resultados en StackOverflow\")\n",
    "        return None\n",
    "    \n",
    "    print(\"🔍 Los mejores resultados de StackOverflow son:\")\n",
    "    print(f\"👉 {urls[0]}\")\n",
    "    \n",
    "    try:\n",
    "        response = requests.get(urls[0], headers=headers)\n",
    "        response.raise_for_status()\n",
    "        soup = BeautifulSoup(response.text, 'html.parser')\n",
    "    except requests.RequestException as e:\n",
    "        print(\"❌ Error al conectar con StackOverflow:\", e)\n",
    "        return None\n",
    "\n",
    "    votes = soup.find_all(\"div\", {\"class\": \"js-vote-count\"})\n",
    "    comments = soup.find_all(\"div\", {\"class\": \"s-prose js-post-body\"})\n",
    "    \n",
    "    votes_list = [int(vote.get_text().strip()) for vote in votes if vote.get_text().strip().isdigit()]\n",
    "    comments_list = [comment.get_text().strip() for comment in comments]\n",
    "    \n",
    "    if not votes_list or not comments_list:\n",
    "        print(\"⚠️ No se pudieron extraer comentarios o votos de la respuesta.\")\n",
    "        return None\n",
    "    \n",
    "    data = list(zip(votes_list, comments_list))\n",
    "    df = pd.DataFrame(data, columns=['Votes', 'Comment'])\n",
    "    df = df.sort_values(by='Votes', ascending=False)\n",
    "    \n",
    "    top_comment = df.Comment.iloc[0]\n",
    "    print(\"\\n🎉 ¡Aquí tienes el comentario más votado! 🎉\\n\")\n",
    "    \n",
    "    return top_comment\n",
    "\n",
    "def get_AI_help(error_message):\n",
    "    # Construir el prompt con instrucciones específicas\n",
    "    prompt = (\n",
    "        f\"Eres un asistente que ayuda a programadores con errores de Python. \"\n",
    "        f\"Por favor, proporciona una explicación detallada y una solución para el error: '{error_message}'. \"\n",
    "        \"Usa el siguiente formato:\\n\\n\"\n",
    "        \"⚠️ **Error encontrado:** [Explicación del error]\\n\\n\"\n",
    "        \"💡 **Posible solución:** [Solución propuesta con ejemplo de código]\\n\\n\"\n",
    "        \"Incluye ejemplos de código y traceback cuando sea relevante.\"\n",
    "    )\n",
    "\n",
    "    try:\n",
    "        response = client.chat.completions.create(\n",
    "            model=\"gpt-3.5-turbo\",\n",
    "            messages=[{\"role\": \"user\", \"content\": prompt}],\n",
    "            max_tokens=500,\n",
    "            temperature=0.7\n",
    "        )\n",
    "        \n",
    "        # Extraer y devolver la respuesta formateada de la IA\n",
    "        return response.choices[0].message.content.strip()\n",
    "    except Exception as e:\n",
    "        print(f\"Error al generar el comentario con OpenAI: {e}\")\n",
    "        return None\n",
    "\n",
    "def execute_code_with_help(command):\n",
    "    try:\n",
    "        exec(command)\n",
    "    except Exception as e:\n",
    "        error_message = str(e)\n",
    "        full_traceback = traceback.format_exc()\n",
    "        print(f\"⚠️ Error encontrado: {error_message}\")\n",
    "        \n",
    "        # Buscar ayuda en StackOverflow\n",
    "        print(\"🔍 Buscando solución en StackOverflow...\")\n",
    "        solution = get_SOS_help(error_message)\n",
    "\n",
    "        if solution:\n",
    "            print(\"💡 Posible solución encontrada en StackOverflow:\")\n",
    "            print(solution)\n",
    "        else:\n",
    "            print(\"❌ No se encontró una solución relevante en StackOverflow.\")\n",
    "        \n",
    "        # Consultar a OpenAI para obtener una respuesta formateada\n",
    "        print(\"\\n🤖 Consultando a GPT-3.5 para obtener ayuda...\\n\")\n",
    "        ai_solution = get_AI_help(error_message)\n",
    "\n",
    "        if ai_solution:\n",
    "            print(ai_solution)\n",
    "        else:\n",
    "            print(\"❌ No se pudo obtener una respuesta de GPT-3.5.\")\n"
   ]
  },
  {
   "cell_type": "code",
   "execution_count": 7,
   "id": "d46ccd84",
   "metadata": {
    "ExecuteTime": {
     "end_time": "2024-12-02T12:19:12.435692Z",
     "start_time": "2024-12-02T12:19:08.759151Z"
    }
   },
   "outputs": [
    {
     "name": "stdout",
     "output_type": "stream",
     "text": [
      "⚠️ Error encontrado: invalid literal for int() with base 10: 'hola'\n",
      "🔍 Buscando solución en StackOverflow...\n",
      "🔍 Los mejores resultados de StackOverflow son:\n",
      "👉 https://stackoverflow.com/questions/1841565/valueerror-invalid-literal-for-int-with-base-10\n",
      "\n",
      "🎉 ¡Aquí tienes el comentario más votado! 🎉\n",
      "\n",
      "💡 Posible solución encontrada en StackOverflow:\n",
      "The error message means that the string provided to int could not be parsed as an integer. The part at the end, after the :, shows the string that was provided.\n",
      "In the case described in the question, the input was an empty string, written as ''.\n",
      "Here is another example - a string that represents a floating-point value cannot be converted directly with int:\n",
      ">>> int('55063.000000')\n",
      "Traceback (most recent call last):\n",
      "  File \"<stdin>\", line 1, in <module>\n",
      "ValueError: invalid literal for int() with base 10: '55063.000000'\n",
      "\n",
      "Instead, convert to float first:\n",
      ">>> int(float('55063.000000'))\n",
      "55063\n",
      "\n",
      "🤖 Consultando a GPT-3.5 para obtener ayuda...\n",
      "\n",
      "⚠️ **Error encontrado:** Este error ocurre cuando se intenta convertir una cadena que no representa un número válido en un entero utilizando la función `int()` en Python.\n",
      "\n",
      "💡 **Posible solución:** Para evitar este error, es importante asegurarse de que la cadena que se está intentando convertir en un entero realmente represente un número válido.\n",
      "\n",
      "Por ejemplo, si se tiene una cadena que contiene un número como \"123\", se puede convertir en un entero de la siguiente manera:\n",
      "\n",
      "```python\n",
      "numero_str = \"123\"\n",
      "numero_int = int(numero_str)\n",
      "print(numero_int)\n",
      "```\n",
      "\n",
      "Si se intenta convertir una cadena que no representa un número válido, como \"hola\", se producirá el error mencionado. Para manejar este tipo de situaciones, se puede utilizar un bloque `try` y `except` para capturar la excepción y manejarla de manera adecuada:\n",
      "\n",
      "```python\n",
      "numero_str = \"hola\"\n",
      "try:\n",
      "    numero_int = int(numero_str)\n",
      "    print(numero_int)\n",
      "except ValueError:\n",
      "    print(\"La cadena no representa un número válido\")\n",
      "```\n",
      "\n",
      "De esta manera, se evita que el programa se detenga por completo y se proporciona un mensaje de error personalizado en caso de que la conversión falle.\n"
     ]
    }
   ],
   "source": [
    "execute_code_with_help('int(\"hola\")')\n"
   ]
  },
  {
   "cell_type": "code",
   "execution_count": null,
   "id": "ea607ac9",
   "metadata": {},
   "outputs": [],
   "source": []
  }
 ],
 "metadata": {
  "kernelspec": {
   "display_name": "TRD",
   "language": "python",
   "name": "python3"
  },
  "language_info": {
   "codemirror_mode": {
    "name": "ipython",
    "version": 3
   },
   "file_extension": ".py",
   "mimetype": "text/x-python",
   "name": "python",
   "nbconvert_exporter": "python",
   "pygments_lexer": "ipython3",
   "version": "3.9.20"
  }
 },
 "nbformat": 4,
 "nbformat_minor": 5
}
